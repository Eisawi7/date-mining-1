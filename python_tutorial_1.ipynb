{
  "nbformat": 4,
  "nbformat_minor": 0,
  "metadata": {
    "colab": {
      "provenance": [],
      "authorship_tag": "ABX9TyM+LVebN+g8T7JEyqbfE4mN",
      "include_colab_link": true
    },
    "kernelspec": {
      "name": "python3",
      "display_name": "Python 3"
    },
    "language_info": {
      "name": "python"
    }
  },
  "cells": [
    {
      "cell_type": "markdown",
      "metadata": {
        "id": "view-in-github",
        "colab_type": "text"
      },
      "source": [
        "<a href=\"https://colab.research.google.com/github/Eisawi7/date-mining-1/blob/main/python_tutorial_1.ipynb\" target=\"_parent\"><img src=\"https://colab.research.google.com/assets/colab-badge.svg\" alt=\"Open In Colab\"/></a>"
      ]
    },
    {
      "cell_type": "markdown",
      "source": [
        "simple variable\n"
      ],
      "metadata": {
        "id": "6d0jLAv7XGff"
      }
    },
    {
      "cell_type": "code",
      "execution_count": null,
      "metadata": {
        "colab": {
          "base_uri": "https://localhost:8080/"
        },
        "id": "ksuPbS78W-GA",
        "outputId": "eb395ecb-f098-406d-aa89-889be6eb0f1b"
      },
      "outputs": [
        {
          "output_type": "stream",
          "name": "stdout",
          "text": [
            "this is a variable name a: 10\n"
          ]
        }
      ],
      "source": [
        "#Basic arithmetic operation\n",
        "a=10\n",
        "print(\"this is a variable name a:\",a)"
      ]
    },
    {
      "cell_type": "code",
      "source": [
        "b=5\n",
        "print(\"this is avaiable name a:\",b)"
      ],
      "metadata": {
        "colab": {
          "base_uri": "https://localhost:8080/"
        },
        "id": "3T6rWVXnXUAq",
        "outputId": "4b968bf2-c684-4a75-d65b-99ee1381c525"
      },
      "execution_count": null,
      "outputs": [
        {
          "output_type": "stream",
          "name": "stdout",
          "text": [
            "this is avaiable name a: 5\n"
          ]
        }
      ]
    },
    {
      "cell_type": "code",
      "source": [
        "#Basic arithmetic operation\n",
        "a = 10\n",
        "b = 5\n",
        "sum = a+b\n",
        "difference=a-b\n",
        "product=a*b\n",
        "division=a/b\n",
        "print(\"Sum:\",sum)\n",
        "print(\"Differnce:\",difference)\n",
        "print(\"Product:\",product)\n",
        "print(\"Division:\",division)"
      ],
      "metadata": {
        "colab": {
          "base_uri": "https://localhost:8080/"
        },
        "id": "G3ypdN8PR0OD",
        "outputId": "099cef59-ccfc-46fc-bdef-0d2fcf16f2cb"
      },
      "execution_count": null,
      "outputs": [
        {
          "output_type": "stream",
          "name": "stdout",
          "text": [
            "Sum: 15\n",
            "Differnce: 5\n",
            "Product: 50\n",
            "Division: 2.0\n"
          ]
        }
      ]
    },
    {
      "cell_type": "code",
      "source": [
        "print(f\"The sum of the two number{a},{b} is {sum}\")"
      ],
      "metadata": {
        "colab": {
          "base_uri": "https://localhost:8080/"
        },
        "id": "oe9QogMxViYg",
        "outputId": "b08c23e0-2d6b-465b-cd6e-9a223d2aee05"
      },
      "execution_count": null,
      "outputs": [
        {
          "output_type": "stream",
          "name": "stdout",
          "text": [
            "The sum of the two number10,5 is 15\n"
          ]
        }
      ]
    },
    {
      "cell_type": "code",
      "source": [
        "x = 13//2\n",
        "print(x)\n",
        "y = 13%2\n",
        "print(y)"
      ],
      "metadata": {
        "colab": {
          "base_uri": "https://localhost:8080/"
        },
        "id": "dPCSGOGQXvhE",
        "outputId": "d4c49d27-f2b3-43d9-afad-a9b96cd70dcc"
      },
      "execution_count": null,
      "outputs": [
        {
          "output_type": "stream",
          "name": "stdout",
          "text": [
            "6\n",
            "1\n"
          ]
        }
      ]
    },
    {
      "cell_type": "code",
      "source": [
        "# Boolean variable and comparisons\n",
        "x = 10\n",
        "y = 5\n",
        "\n",
        "is_greater = x>y\n",
        "is_equal = x==y\n",
        "is_not_equal = x!=y\n",
        "print(\"Is x gteater than y?\", is_greater)\n",
        "print(\"is x eqaualy?\", is_equal)\n",
        "print(\"is x not equal to y?\", is_not_equal)\n",
        "\n",
        "# Variable assignment\n",
        "name = \"Essa\"\n",
        "age = 31\n",
        "is_prfessor = True\n",
        "print(f\"{name}'s age is {age}. He is a professor is {is_prfessor}\")\n",
        "\n",
        "\n"
      ],
      "metadata": {
        "colab": {
          "base_uri": "https://localhost:8080/"
        },
        "id": "Xg5NXxWOZsiS",
        "outputId": "0c1b0648-4c0d-40cb-c5dc-98816508a4d9"
      },
      "execution_count": null,
      "outputs": [
        {
          "output_type": "stream",
          "name": "stdout",
          "text": [
            "Is x gteater than y? True\n",
            "is x eqaualy? False\n",
            "is x not equal to y? True\n",
            "Essa's age is 31. He is a professor is True\n"
          ]
        }
      ]
    },
    {
      "cell_type": "code",
      "source": [
        "# Defining and using a function\n",
        "def great(name):\n",
        " return \"Hello,\" + name +\"!\"\n",
        " my_name = input(\"Enter your name:\")\n",
        " great(\"my_name\")\n",
        " great(\"Essa\")\n"
      ],
      "metadata": {
        "id": "G5YhlWLYf4tp"
      },
      "execution_count": null,
      "outputs": []
    },
    {
      "cell_type": "code",
      "source": [
        "def add_numbers(a,b):\n",
        " return a+b\n",
        "\n",
        "a = int(input(\"Enter first number:\"))\n",
        "b = int(input(\"Enter secound number\"))\n",
        "addition_value = add_numbers(a,b)\n",
        "print(f\"The result of aaddition for{a},{b} is {addition_value}\")"
      ],
      "metadata": {
        "collapsed": true,
        "colab": {
          "base_uri": "https://localhost:8080/"
        },
        "id": "FuRMdaJviFAh",
        "outputId": "25365ffa-fc56-4ff4-899c-dae924cbaec4"
      },
      "execution_count": null,
      "outputs": [
        {
          "output_type": "stream",
          "name": "stdout",
          "text": [
            "Enter first number:2\n",
            "Enter secound number3\n",
            "The result of aaddition for2,3 is 5\n"
          ]
        }
      ]
    },
    {
      "cell_type": "code",
      "source": [
        "def add_numbers(a,b):\n",
        " return a+b\n",
        "\n",
        "a = eval(input(\"Enter first number:\"))\n",
        "b = eval(input(\"Enter secound number:\"))\n",
        "addition_value = add_numbers(a,b)\n",
        "print(f\"The result of aaddition for{a},{b} is {addition_value}\")"
      ],
      "metadata": {
        "colab": {
          "base_uri": "https://localhost:8080/"
        },
        "id": "hpxlq9rlnjdQ",
        "outputId": "198f4765-8bb5-4961-c124-a77caca3900c"
      },
      "execution_count": null,
      "outputs": [
        {
          "output_type": "stream",
          "name": "stdout",
          "text": [
            "Enter first number:-4.5\n",
            "Enter secound number:10\n",
            "The result of aaddition for-4.5,10 is 5.5\n"
          ]
        }
      ]
    },
    {
      "cell_type": "code",
      "source": [
        "#working with strings\n",
        "message = \"hello.word\"\n",
        "length = len(message)\n",
        "uppercase = message.upper()\n",
        "substring =message[7:12]\n",
        "\n",
        "print(\"Original message:\", message)\n",
        "print(\"The lenth is:\", length)\n",
        "print('Upper case:', uppercase)\n",
        "print('part of the message is:', substring)"
      ],
      "metadata": {
        "id": "9optXEnwoUsI",
        "colab": {
          "base_uri": "https://localhost:8080/"
        },
        "outputId": "4eedbe8a-24d9-42d5-e660-232666614180"
      },
      "execution_count": null,
      "outputs": [
        {
          "output_type": "stream",
          "name": "stdout",
          "text": [
            "Original message: hello.word\n",
            "The lenth is: 10\n",
            "Upper case: HELLO.WORD\n",
            "part of the message is: ord\n"
          ]
        }
      ]
    },
    {
      "cell_type": "code",
      "source": [
        "# Basic input example\n",
        "last = input('Enter the last name, last name:')\n",
        "First= input('Enter the last name, First name:')\n",
        "print(f\"{last},{First}\")\n",
        "\n"
      ],
      "metadata": {
        "colab": {
          "base_uri": "https://localhost:8080/"
        },
        "id": "KYArojXxUs6m",
        "outputId": "c81fedfe-4dac-48ea-8ed1-f32f526a12b7"
      },
      "execution_count": null,
      "outputs": [
        {
          "output_type": "stream",
          "name": "stdout",
          "text": [
            "Enter the last name, last name:Alrashdi\n",
            "Enter the last name, First name:Essa\n",
            "Alrashdi,Essa\n"
          ]
        }
      ]
    },
    {
      "cell_type": "code",
      "source": [
        "# Numeric input example\n",
        "age = int(input(\"Enter your age:\"))\n",
        "print(\"You will be\", age +1, \"years old next year.\")"
      ],
      "metadata": {
        "colab": {
          "base_uri": "https://localhost:8080/"
        },
        "id": "1gh1yXdPWVhL",
        "outputId": "af1b0766-46ca-43eb-9677-aec30a47f01a"
      },
      "execution_count": null,
      "outputs": [
        {
          "output_type": "stream",
          "name": "stdout",
          "text": [
            "Enter your age:31\n",
            "You will be 32 years old next year.\n"
          ]
        }
      ]
    },
    {
      "cell_type": "code",
      "source": [
        "# string concatenation with input\n",
        "city = input(\"Enter your city:\")\n",
        "country =input('Enter your country:')\n",
        "location = city + \",\" + country\n",
        "print(\"You are in:\", location)\n"
      ],
      "metadata": {
        "colab": {
          "base_uri": "https://localhost:8080/"
        },
        "id": "O-8CTKcVX11x",
        "outputId": "fec059bc-dcf1-4fb2-fa7d-b15cf3f9ce47"
      },
      "execution_count": null,
      "outputs": [
        {
          "output_type": "stream",
          "name": "stdout",
          "text": [
            "Enter your city:Hagl\n",
            "Enter your country:KSA\n",
            "You are in: Hagl,KSA\n"
          ]
        }
      ]
    },
    {
      "cell_type": "code",
      "source": [
        "# Multiple inputs\n",
        "name, age = input(\"Enter your name and age sperated by space:\").split()\n",
        "print(f\"my name is {name} and my age is {age}\")"
      ],
      "metadata": {
        "id": "n0aiLX0qhhyr"
      },
      "execution_count": null,
      "outputs": []
    }
  ]
}