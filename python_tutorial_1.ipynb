{
  "nbformat": 4,
  "nbformat_minor": 0,
  "metadata": {
    "colab": {
      "provenance": [],
      "authorship_tag": "ABX9TyP1k/AetaW8zq3E0Wy332EP",
      "include_colab_link": true
    },
    "kernelspec": {
      "name": "python3",
      "display_name": "Python 3"
    },
    "language_info": {
      "name": "python"
    }
  },
  "cells": [
    {
      "cell_type": "markdown",
      "metadata": {
        "id": "view-in-github",
        "colab_type": "text"
      },
      "source": [
        "<a href=\"https://colab.research.google.com/github/Eisawi7/date-mining-1/blob/main/python_tutorial_1.ipynb\" target=\"_parent\"><img src=\"https://colab.research.google.com/assets/colab-badge.svg\" alt=\"Open In Colab\"/></a>"
      ]
    },
    {
      "cell_type": "markdown",
      "source": [
        "simple variable\n"
      ],
      "metadata": {
        "id": "6d0jLAv7XGff"
      }
    },
    {
      "cell_type": "code",
      "execution_count": 3,
      "metadata": {
        "colab": {
          "base_uri": "https://localhost:8080/"
        },
        "id": "ksuPbS78W-GA",
        "outputId": "eb395ecb-f098-406d-aa89-889be6eb0f1b"
      },
      "outputs": [
        {
          "output_type": "stream",
          "name": "stdout",
          "text": [
            "this is a variable name a: 10\n"
          ]
        }
      ],
      "source": [
        "a=10\n",
        "print(\"this is a variable name a:\",a)"
      ]
    },
    {
      "cell_type": "code",
      "source": [
        "b=5\n",
        "print(\"this is avaiable name a:\",b)"
      ],
      "metadata": {
        "colab": {
          "base_uri": "https://localhost:8080/"
        },
        "id": "3T6rWVXnXUAq",
        "outputId": "4b968bf2-c684-4a75-d65b-99ee1381c525"
      },
      "execution_count": 4,
      "outputs": [
        {
          "output_type": "stream",
          "name": "stdout",
          "text": [
            "this is avaiable name a: 5\n"
          ]
        }
      ]
    }
  ]
}